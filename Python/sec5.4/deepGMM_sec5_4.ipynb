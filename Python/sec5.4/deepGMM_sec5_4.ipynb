{
 "cells": [
  {
   "cell_type": "code",
   "execution_count": null,
   "metadata": {},
   "outputs": [],
   "source": [
    "import torch\n",
    "\n",
    "from torch import nn\n",
    "from torch.utils.data import Dataset\n",
    "import numpy as np\n",
    "\n",
    "import matplotlib.pyplot as plt\n",
    "\n",
    "import pandas as pd\n",
    "\n",
    "from scenarios.abstract_scenario import AbstractScenario\n",
    "from methods.toy_model_selection_method import ToyModelSelectionMethod # change input dimension! (f model(s) for X, g model for Y)"
   ]
  },
  {
   "cell_type": "code",
   "execution_count": null,
   "metadata": {},
   "outputs": [],
   "source": [
    "alpha_values = [0, 1, 5]\n",
    "runs = 10  # Number of runs for each alpha value"
   ]
  },
  {
   "cell_type": "code",
   "execution_count": null,
   "metadata": {},
   "outputs": [],
   "source": [
    "# Define the dataset\n",
    "class MyDataset(Dataset):\n",
    "    def __init__(self, data):\n",
    "        self.data = data\n",
    "\n",
    "    def __len__(self):\n",
    "        return len(self.data)\n",
    "\n",
    "    def __getitem__(self, idx):\n",
    "        return self.data[idx]"
   ]
  },
  {
   "cell_type": "code",
   "execution_count": null,
   "metadata": {},
   "outputs": [],
   "source": [
    "for alpha in alpha_values:\n",
    "    train_data_path = f'data/sec5.4/train_Zcont_g_fct_f_softplusalpha{alpha}.csv'\n",
    "    test_data_path = f'data/sec5.4/test_Zcont_g_fct_f_softplusalpha{alpha}.csv'\n",
    "    \n",
    "    train_data = torch.tensor(np.genfromtxt(train_data_path, delimiter=',', skip_header=1), dtype=torch.float32)\n",
    "    test_data = np.genfromtxt(test_data_path, delimiter=',', skip_header=1)\n",
    "\n",
    "    data_train_length = train_data.shape[0]\n",
    "    print(f'Train data size: {data_train_length}')\n",
    "\n",
    "    # Separate the columns into individual tensors\n",
    "    Z = train_data[:, 0].reshape(-1, 1)\n",
    "    X = train_data[:, 1].reshape(-1, 1)\n",
    "    Y = train_data[:, 2].reshape(-1, 1)\n",
    "\n",
    "\n",
    "    # Create an instance of the dataset\n",
    "    dataset = MyDataset(train_data)\n",
    "\n",
    "    # Define the split ratio\n",
    "    train_ratio = 0.9  # 90% of the data for training, 10% for validation\n",
    "    train_size = int(train_ratio * len(dataset))\n",
    "    val_size = len(dataset) - train_size\n",
    "\n",
    "    # Split the dataset into training and validation sets\n",
    "    train_data, val_data = torch.utils.data.random_split(dataset, [train_size, val_size])\n",
    "\n",
    "    # Separate the columns into individual tensors\n",
    "    Z_train = train_data.dataset.data[:train_size, 0].reshape(-1, 1)\n",
    "    X_train = train_data.dataset.data[:train_size, 1].reshape(-1, 1)\n",
    "    Y_train = train_data.dataset.data[:train_size, 2].reshape(-1, 1)\n",
    "\n",
    "    Z_val = val_data.dataset.data[train_size:, 0].reshape(-1, 1)\n",
    "    X_val = val_data.dataset.data[train_size:, 1].reshape(-1, 1)\n",
    "    Y_val = val_data.dataset.data[train_size:, 2].reshape(-1, 1)\n",
    "    \n",
    "    deepGMM = ToyModelSelectionMethod()\n",
    "\n",
    "    # Define Xtest\n",
    "    X_test = torch.tensor(test_data[:,0].astype(np.float32)).squeeze()\n",
    "    # X_test_grid = torch.tensor(test_data[:,2].astype(np.float32)).squeeze()\n",
    "\n",
    "    # Initialize an empty DataFrame for storing results\n",
    "    df_mse  = pd.DataFrame()\n",
    "    df_plot = pd.DataFrame()\n",
    "\n",
    "    for i in range(runs):\n",
    "        deepGMM.fit(X_train.double(), Z_train.double(), Y_train.double(), \n",
    "                    X_val.double(), Z_val.double(), Y_val.double(), \n",
    "                    g_dev=None, verbose=True)\n",
    "        \n",
    "        y_hat_deepGMM = deepGMM.predict(X_test.double()).flatten().detach().numpy()\n",
    "        # y_hat_deepGMM_grid = deepGMM.predict(X_test_grid.double()).flatten().detach().numpy()\n",
    "\n",
    "        # Add the results as a new column to the DataFrame\n",
    "        df_mse[f'Run_{i+1}'] = y_hat_deepGMM\n",
    "        # df_plot[f'Run_{i+1}'] = y_hat_deepGMM_grid\n",
    "        \n",
    "    # Save the results for the current alpha\n",
    "    df_mse.to_csv(f'results/sec5.4/deepgmm_result_mse_alpha{alpha}.csv', index=False)\n",
    "    # df_plot.to_csv(f'output_data/deepgmm_result_plot_alpha{alpha}.csv', index=False)\n",
    "    \n",
    "    # Optionally, plot the results\n",
    "    # plt.scatter(X_test_grid, df_plot.iloc[:, -1], s=1, color='red', label=f'DeepGMM Alpha {alpha}')\n",
    "    # plt.scatter(X_test_grid, test_data[:, 3], s=1)\n",
    "    # plt.legend()\n",
    "    # plt.show()"
   ]
  }
 ],
 "metadata": {
  "kernelspec": {
   "display_name": "base",
   "language": "python",
   "name": "python3"
  },
  "language_info": {
   "codemirror_mode": {
    "name": "ipython",
    "version": 3
   },
   "file_extension": ".py",
   "mimetype": "text/x-python",
   "name": "python",
   "nbconvert_exporter": "python",
   "pygments_lexer": "ipython3",
   "version": "3.11.0"
  }
 },
 "nbformat": 4,
 "nbformat_minor": 2
}
