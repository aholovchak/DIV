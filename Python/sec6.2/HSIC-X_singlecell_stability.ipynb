{
 "cells": [
  {
   "cell_type": "code",
   "execution_count": null,
   "metadata": {},
   "outputs": [],
   "source": [
    "import sys\n",
    "import numpy as np\n",
    "import pandas as pd\n",
    "from sklearn.preprocessing import OneHotEncoder\n",
    "\n",
    "sys.path.append(\"../\")\n",
    "from helpers.trainer import train_mse, train_HSIC_IV\n",
    "from models.kernel import CategoryKernel, RBFKernel\n",
    "from models.hsicx import NNHSICX\n",
    "from helpers.utils import med_sigma, to_torch\n",
    "from joblib import Parallel, delayed\n",
    "\n",
    "import matplotlib.pyplot as plt"
   ]
  },
  {
   "cell_type": "code",
   "execution_count": null,
   "metadata": {},
   "outputs": [],
   "source": [
    "config_hsic = {'batch_size': 256, 'lr': 1e-3,\n",
    "               'max_epoch': 1000, 'num_restart': 4}\n",
    "\n",
    "config_mse = {'batch_size': 256, 'lr': 1e-3,\n",
    "              'max_epoch': 500}"
   ]
  },
  {
   "cell_type": "code",
   "execution_count": null,
   "metadata": {},
   "outputs": [],
   "source": [
    "dataset_rpe1 = pd.read_csv(\"data/sec6.2/dataset_rpe1.csv\")\n",
    "\n",
    "interv_genes = dataset_rpe1.columns[:9].tolist()\n",
    "\n",
    "train_data = dataset_rpe1[dataset_rpe1['interventions'].isin(interv_genes + [\"non-targeting\"])].copy()\n",
    "\n",
    "train_data['interventions'] = train_data['interventions'].astype('category')\n",
    "train_data['Ztr'] = train_data.iloc[:, 10].astype('category')\n",
    "\n",
    "Xtr = train_data.iloc[:, :9].values  # First 9 columns\n",
    "Ytr = train_data.iloc[:, 9].values   # 10th column (target)\n",
    "\n",
    "# Convert `Ztr` to One-Hot Encoding\n",
    "encoder = OneHotEncoder(sparse_output=False)\n",
    "Ztr_encoded = encoder.fit_transform(train_data[['Ztr']])\n",
    "\n",
    "# Get unique interventions excluding \"non-targeting\"\n",
    "unique_interventions = [g for g in train_data['interventions'].unique() if g != \"non-targeting\"]\n",
    "num_iterations = len(unique_interventions)  # Excluding one per iteration\n",
    "\n",
    "df_mse = pd.DataFrame()"
   ]
  },
  {
   "cell_type": "code",
   "execution_count": null,
   "metadata": {},
   "outputs": [],
   "source": [
    "# test data (from 50 test environments)\n",
    "test_data_path = 'data/sec6.2/test_single_cell.csv'\n",
    "test_data = pd.read_csv(test_data_path)\n",
    "Xtest = test_data.iloc[:, 0:9].values.astype(np.float32)"
   ]
  },
  {
   "cell_type": "code",
   "execution_count": null,
   "metadata": {},
   "outputs": [],
   "source": [
    "# Define model parameters\n",
    "instrument = 'Binary'  # Binary or Continuous\n",
    "kernel_e = RBFKernel(sigma=1)\n",
    "kernel_z = CategoryKernel(one_hot=True) if instrument == 'Binary' else RBFKernel(sigma=med_sigma(Ztr_encoded))"
   ]
  },
  {
   "cell_type": "code",
   "execution_count": null,
   "metadata": {},
   "outputs": [],
   "source": [
    "# Define function to process a single gene removal\n",
    "def process_gene_removal(i, gene_to_remove, train_data, Xtr, Ytr, Ztr_encoded, interv_genes, config_mse, config_hsic, instrument):\n",
    "    print(f\"\\nIteration {i+1}: Removing intervention {gene_to_remove}\")\n",
    "\n",
    "    # Correct filtering\n",
    "    valid_rows = train_data['interventions'].isin([\"non-targeting\"] + list(set(interv_genes) - {gene_to_remove}))\n",
    "\n",
    "    # Debug: Check row count\n",
    "    print(f\"Valid rows count: {valid_rows.sum()} out of {len(train_data)}\")\n",
    "\n",
    "    # Apply filtering\n",
    "    Xtr_excl, Ytr_excl, Ztr_excl = Xtr[valid_rows], Ytr[valid_rows], Ztr_encoded[valid_rows]\n",
    "\n",
    "    # Train the Pure Predictive model\n",
    "    mse_net = NNHSICX(input_dim=9, lr=config_mse['lr'], lmd=-99)\n",
    "    mse_net = train_mse(mse_net, config_mse, Xtr_excl, Ytr_excl, Ztr_excl)\n",
    "\n",
    "    # HSIC IV model setup\n",
    "    s_z = med_sigma(Ztr_excl)\n",
    "    kernel_e = RBFKernel(sigma=1)\n",
    "\n",
    "    if instrument == 'Binary':\n",
    "        kernel_z = CategoryKernel(one_hot=True)\n",
    "    else:\n",
    "        kernel_z = RBFKernel(sigma=s_z)\n",
    "\n",
    "    # Train HSIC IV model\n",
    "    hsic_net = NNHSICX(input_dim=9, \n",
    "                        lr=config_hsic['lr'], \n",
    "                        kernel_e=kernel_e, \n",
    "                        kernel_z=kernel_z, \n",
    "                        lmd=0)\n",
    "\n",
    "    hsic_net.load_state_dict(mse_net)\n",
    "    hsic_net = train_HSIC_IV(hsic_net, config_hsic, Xtr_excl, Ytr_excl, Ztr_excl, verbose=True)\n",
    "\n",
    "    # Make predictions\n",
    "    intercept_adjust = Ytr_excl.mean() - hsic_net(to_torch(Xtr_excl)).mean()\n",
    "\n",
    "    y_hat_hsic = intercept_adjust + hsic_net(to_torch(Xtest))\n",
    "    y_hat_hsic = y_hat_hsic.detach().numpy().copy()\n",
    "\n",
    "    return i, y_hat_hsic  # Return index and predictions\n",
    "\n",
    "\n",
    "# Parallel execution\n",
    "if __name__ == \"__main__\":\n",
    "    num_iterations = len(unique_interventions)\n",
    "\n",
    "    results = Parallel(n_jobs=9)(\n",
    "        delayed(process_gene_removal)(i, gene_to_remove, train_data, Xtr, Ytr, Ztr_encoded, \n",
    "                                      interv_genes, config_mse, config_hsic, instrument)\n",
    "        for i, gene_to_remove in enumerate(unique_interventions)\n",
    "    )\n",
    "\n",
    "    # Store predictions in DataFrame\n",
    "    df_mse = pd.DataFrame({f'Run_{i+1}': y_hat_hsic for i, y_hat_hsic in results})"
   ]
  },
  {
   "cell_type": "code",
   "execution_count": null,
   "metadata": {},
   "outputs": [],
   "source": [
    "df_mse.columns = unique_interventions\n",
    "df_mse.to_csv(\"results/sec6.2/hsic_singlecell_pairwise.csv\", index=False)"
   ]
  }
 ],
 "metadata": {
  "kernelspec": {
   "display_name": "base",
   "language": "python",
   "name": "python3"
  },
  "language_info": {
   "codemirror_mode": {
    "name": "ipython",
    "version": 3
   },
   "file_extension": ".py",
   "mimetype": "text/x-python",
   "name": "python",
   "nbconvert_exporter": "python",
   "pygments_lexer": "ipython3",
   "version": "3.11.0"
  }
 },
 "nbformat": 4,
 "nbformat_minor": 2
}
