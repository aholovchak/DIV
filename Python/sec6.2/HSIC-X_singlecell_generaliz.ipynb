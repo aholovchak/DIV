{
 "cells": [
  {
   "cell_type": "code",
   "execution_count": null,
   "id": "09e2d847-91be-4f37-8247-adbfff1e4e62",
   "metadata": {},
   "outputs": [],
   "source": [
    "import sys\n",
    "import numpy as np\n",
    "import pandas as pd\n",
    "from sklearn.preprocessing import OneHotEncoder\n",
    "from joblib import Parallel, delayed\n",
    "\n",
    "sys.path.append(\"../\")\n",
    "from helpers.trainer import train_mse, train_HSIC_IV\n",
    "from models.kernel import CategoryKernel, RBFKernel\n",
    "from models.hsicx import NNHSICX\n",
    "from helpers.utils import med_sigma, to_torch\n",
    "\n",
    "import matplotlib.pyplot as plt\n"
   ]
  },
  {
   "cell_type": "code",
   "execution_count": null,
   "id": "0f4805fb-bc82-4ca1-8fec-4e58829489cd",
   "metadata": {},
   "outputs": [],
   "source": [
    "config_hsic = {'batch_size': 256, 'lr': 1e-3,\n",
    "               'max_epoch': 1000, 'num_restart': 4}\n",
    "\n",
    "config_mse = {'batch_size': 256, 'lr': 1e-3,\n",
    "              'max_epoch': 500}"
   ]
  },
  {
   "cell_type": "code",
   "execution_count": null,
   "id": "01b11627",
   "metadata": {},
   "outputs": [],
   "source": [
    "dataset_rpe1 = pd.read_csv(\"R/sec6.2/dataset_rpe1.csv\")\n",
    "\n",
    "interv_genes = dataset_rpe1.columns[:9].tolist()\n",
    "\n",
    "train_data = dataset_rpe1[dataset_rpe1['interventions'].isin(interv_genes + [\"non-targeting\"])].copy()\n",
    "\n",
    "train_data['interventions'] = train_data['interventions'].astype('category')\n",
    "train_data['Ztr'] = train_data.iloc[:, 10].astype('category')\n",
    "\n",
    "Xtr = train_data.iloc[:, :9].values  # First 9 columns\n",
    "Ytr = train_data.iloc[:, 9].values   # 10th column (target)\n",
    "\n",
    "# Convert `Ztr` to One-Hot Encoding\n",
    "encoder = OneHotEncoder(sparse_output=False)\n",
    "Ztr_encoded = encoder.fit_transform(train_data[['Ztr']])\n",
    "\n",
    "df_mse = pd.DataFrame()"
   ]
  },
  {
   "cell_type": "code",
   "execution_count": null,
   "id": "6ebd8786",
   "metadata": {},
   "outputs": [],
   "source": [
    "# test data \n",
    "test_data_path = 'R/sec6.2/test_single_cell.csv'\n",
    "test_data = pd.read_csv(test_data_path)\n",
    "Xtest = test_data.iloc[:, 0:9].values.astype(np.float32)"
   ]
  },
  {
   "cell_type": "code",
   "execution_count": null,
   "id": "e9a0b560-1049-42bf-ae04-29e0d692fd46",
   "metadata": {
    "jupyter": {
     "outputs_hidden": true
    },
    "scrolled": true,
    "tags": []
   },
   "outputs": [],
   "source": [
    "# Define model parameters\n",
    "instrument = 'Binary'  # Binary or Continuous\n",
    "kernel_e = RBFKernel(sigma=1)\n",
    "kernel_z = CategoryKernel(one_hot=True) if instrument == 'Binary' else RBFKernel(sigma=med_sigma(Ztr_encoded))"
   ]
  },
  {
   "cell_type": "code",
   "execution_count": null,
   "id": "b97762b8",
   "metadata": {},
   "outputs": [],
   "source": [
    "# Function to train and predict HSIC-X for a single run\n",
    "def hsic_train(i, Xtr, Ytr, Ztr_encoded, config_mse, config_hsic, instrument):\n",
    "    print(f\"Starting HSIC-X Run {i + 1}/10...\")\n",
    "\n",
    "    # Train the Pure Predictive model\n",
    "    mse_net = NNHSICX(input_dim=9, lr=config_mse['lr'], lmd=-99)\n",
    "    mse_net = train_mse(mse_net, config_mse, Xtr, Ytr, Ztr_encoded)\n",
    "\n",
    "    # HSIC IV model setup\n",
    "    s_z = med_sigma(Ztr_encoded)\n",
    "    kernel_e = RBFKernel(sigma=1)\n",
    "\n",
    "    if instrument == 'Binary':\n",
    "        kernel_z = CategoryKernel(one_hot=True)\n",
    "    else:\n",
    "        kernel_z = RBFKernel(sigma=s_z)\n",
    "\n",
    "    # Train HSIC IV model\n",
    "    hsic_net = NNHSICX(input_dim=9, \n",
    "                        lr=config_hsic['lr'], \n",
    "                        kernel_e=kernel_e, \n",
    "                        kernel_z=kernel_z, \n",
    "                        lmd=0)\n",
    "\n",
    "    hsic_net.load_state_dict(mse_net)\n",
    "    hsic_net = train_HSIC_IV(hsic_net, config_hsic, Xtr, Ytr, Ztr_encoded, verbose=True)\n",
    "\n",
    "    # Make predictions\n",
    "    intercept_adjust = Ytr.mean() - hsic_net(to_torch(Xtr)).mean()\n",
    "    y_hat_hsic = intercept_adjust + hsic_net(to_torch(Xtest))\n",
    "    y_hat_hsic = y_hat_hsic.detach().numpy().copy()\n",
    "\n",
    "    return y_hat_hsic  # Return predictions"
   ]
  },
  {
   "cell_type": "code",
   "execution_count": null,
   "id": "40e1fec9",
   "metadata": {},
   "outputs": [],
   "source": [
    "# Run the 10 iterations in parallel\n",
    "num_repeats = 10\n",
    "results = Parallel(n_jobs=5)(\n",
    "    delayed(hsic_train)(i, Xtr, Ytr, Ztr_encoded, config_mse, config_hsic, instrument)\n",
    "    for i in range(num_repeats)\n",
    ")"
   ]
  },
  {
   "cell_type": "code",
   "execution_count": null,
   "id": "bea72088",
   "metadata": {},
   "outputs": [],
   "source": [
    "df_results = pd.DataFrame(results).T  # Transpose to have runs as columns\n",
    "df_results.columns = [f'Run_{i+1}' for i in range(num_repeats)]\n",
    "\n",
    "output_filename = 'results/hsicx_singlecell_10runs.csv'\n",
    "df_results.to_csv(output_filename, index=False)"
   ]
  }
 ],
 "metadata": {
  "environment": {
   "kernel": "python3",
   "name": "pytorch-gpu.1-10.m87",
   "type": "gcloud",
   "uri": "gcr.io/deeplearning-platform-release/pytorch-gpu.1-10:m87"
  },
  "kernelspec": {
   "display_name": "base",
   "language": "python",
   "name": "python3"
  },
  "language_info": {
   "codemirror_mode": {
    "name": "ipython",
    "version": 3
   },
   "file_extension": ".py",
   "mimetype": "text/x-python",
   "name": "python",
   "nbconvert_exporter": "python",
   "pygments_lexer": "ipython3",
   "version": "3.11.0"
  }
 },
 "nbformat": 4,
 "nbformat_minor": 5
}
